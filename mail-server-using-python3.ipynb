{
 "cells": [
  {
   "cell_type": "code",
   "execution_count": null,
   "metadata": {},
   "outputs": [
    {
     "name": "stdout",
     "output_type": "stream",
     "text": [
      "('192.168.43.18', 54932)\n",
      "rahulsuthar7868@gmail.com\n",
      " data recover hello friends i want recover my data if you support me  i will give you 200 $ \n",
      "\n",
      "('192.168.43.18', 54934)\n",
      "rahulrsuthar123@gmail.com\n",
      "  subject : data recover \n",
      "  hello friends i want recover my data if you support me  i will give you 2\n",
      "00 $ \n"
     ]
    }
   ],
   "source": [
    "import socket\n",
    "import threading\n",
    "import smtplib \n",
    "smtp_object = smtplib.SMTP('smtp.gmail.com',587)\n",
    "smtp_object.ehlo()\n",
    "smtp_object.starttls()\n",
    "s=socket.socket()\n",
    "s.setsockopt(socket.SOL_SOCKET, socket.SO_REUSEADDR , 1) \n",
    "port = 7868\n",
    "ip= \"192.168.43.179\"\n",
    "s.bind((ip,port))\n",
    "s.listen()\n",
    "\n",
    "def program(session ,addr):\n",
    "    print(addr)\n",
    "    session.send(b\"i am server\" )\n",
    "    cilent_id = session.recv(100).decode()\n",
    "    cilent_sub = session.recv(100).decode()\n",
    "    data=session.recv(100).decode()\n",
    "    email='rksuthar7868@gmail.com'\n",
    "    password='mfmwjyjervskuvgv'\n",
    "    print(cilent_id +\"\\n \" + cilent_sub + \"\\n\"+ data)\n",
    "    smtp_object.login(email,password)\n",
    "    from_id = 'rksuthar7868@gmail.com'\n",
    "    to = cilent_id\n",
    "    subject = cilent_sub\n",
    "    message =data\n",
    "    msg= \"subject : \" + subject + \" \\n \"+ \" message : \"+message\n",
    "    smtp_object.sendmail(from_id , to , msg )\n",
    "while True:\n",
    "    session,addr = s.accept()\n",
    "    t1= threading.Thread(target = program , args=(session , addr))\n",
    "    t1.start()\n"
   ]
  },
  {
   "cell_type": "code",
   "execution_count": null,
   "metadata": {},
   "outputs": [],
   "source": []
  }
 ],
 "metadata": {
  "kernelspec": {
   "display_name": "Python 3",
   "language": "python",
   "name": "python3"
  },
  "language_info": {
   "codemirror_mode": {
    "name": "ipython",
    "version": 3
   },
   "file_extension": ".py",
   "mimetype": "text/x-python",
   "name": "python",
   "nbconvert_exporter": "python",
   "pygments_lexer": "ipython3",
   "version": "3.8.3"
  }
 },
 "nbformat": 4,
 "nbformat_minor": 4
}
